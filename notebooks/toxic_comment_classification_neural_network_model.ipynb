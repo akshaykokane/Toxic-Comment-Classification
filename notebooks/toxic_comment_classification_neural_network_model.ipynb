{
 "cells": [
  {
   "cell_type": "code",
   "execution_count": 8,
   "metadata": {},
   "outputs": [],
   "source": [
    "import pandas as pd\n",
    "import tensorflow as tf\n",
    "import numpy as np\n",
    "import matplotlib.pyplot as plt"
   ]
  },
  {
   "cell_type": "markdown",
   "metadata": {},
   "source": [
    "## Import train and test dataset"
   ]
  },
  {
   "cell_type": "code",
   "execution_count": 32,
   "metadata": {
    "scrolled": false
   },
   "outputs": [
    {
     "name": "stdout",
     "output_type": "stream",
     "text": [
      "(159571, 8)\n"
     ]
    }
   ],
   "source": [
    "\n",
    "train_file = \"D:\\\\workspace\\\\toxic-comments-classification\\\\dataset\\\\train.csv\";\n",
    "test_file = \"D:\\\\workspace\\\\toxic-comments-classification\\\\dataset\\\\train.csv\";\n",
    "\n",
    "train_read = pd.read_csv(train_file)\n",
    "train_read.head()\n",
    "\n",
    "test_read = pd.read_csv(test_file)\n",
    "test_read.head()\n",
    "print(test_read.shape)"
   ]
  },
  {
   "cell_type": "code",
   "execution_count": 3,
   "metadata": {},
   "outputs": [],
   "source": [
    "#reindexing\n",
    "train_read = train_read.reindex(np.random.permutation(train_read.index))"
   ]
  },
  {
   "cell_type": "code",
   "execution_count": 19,
   "metadata": {},
   "outputs": [
    {
     "name": "stderr",
     "output_type": "stream",
     "text": [
      "C:\\Users\\akshay1\\Anaconda3\\envs\\tensorflow\\lib\\site-packages\\ipykernel_launcher.py:4: FutureWarning: Method .as_matrix will be removed in a future version. Use .values instead.\n",
      "  after removing the cwd from sys.path.\n"
     ]
    }
   ],
   "source": [
    "# seprating comments and labels\n",
    "comment = train_read['comment_text']\n",
    "comment.head()\n",
    "comment = comment.as_matrix()"
   ]
  },
  {
   "cell_type": "code",
   "execution_count": 5,
   "metadata": {},
   "outputs": [
    {
     "name": "stdout",
     "output_type": "stream",
     "text": [
      "        toxic  severe_toxic  obscene  threat  insult  identity_hate\n",
      "116985      0             0        0       0       0              0\n",
      "158012      0             0        0       0       0              0\n",
      "143233      0             0        0       0       0              0\n",
      "151814      0             0        0       0       0              0\n",
      "77519       1             0        1       0       0              0\n"
     ]
    },
    {
     "name": "stderr",
     "output_type": "stream",
     "text": [
      "C:\\Users\\akshay1\\Anaconda3\\envs\\tensorflow\\lib\\site-packages\\ipykernel_launcher.py:3: FutureWarning: Method .as_matrix will be removed in a future version. Use .values instead.\n",
      "  This is separate from the ipykernel package so we can avoid doing imports until\n"
     ]
    }
   ],
   "source": [
    "label = train_read[['toxic', 'severe_toxic' , 'obscene' , 'threat' , 'insult' , 'identity_hate']]\n",
    "print(label.head())\n",
    "label = label.as_matrix()"
   ]
  },
  {
   "cell_type": "markdown",
   "metadata": {},
   "source": [
    "## Data preprocession and visualizing"
   ]
  },
  {
   "cell_type": "code",
   "execution_count": 50,
   "metadata": {},
   "outputs": [
    {
     "name": "stdout",
     "output_type": "stream",
     "text": [
      "Total number of Toxic comment\n",
      "16225\n"
     ]
    }
   ],
   "source": [
    "# Number of comments labelled as toxic(Any type) \n",
    "\n",
    "total_comment = len(comment)\n",
    "total_toxic_comment = 0\n",
    "\n",
    "for i in range(label.shape[0]):\n",
    "    count = np.count_nonzero(label[i])\n",
    "    if count >= 1 :\n",
    "        total_toxic_comment = total_toxic_comment + 1\n",
    "\n",
    "print(\"Total number of Toxic comment\")\n",
    "print(total_toxic_comments)\n"
   ]
  },
  {
   "cell_type": "code",
   "execution_count": 62,
   "metadata": {},
   "outputs": [
    {
     "name": "stdout",
     "output_type": "stream",
     "text": [
      "The Average length of Comment: 394.073\n"
     ]
    }
   ],
   "source": [
    "# find average length of comments\n",
    "lengths_of_all_comments = []\n",
    "\n",
    "for i in range(total_comment):\n",
    "    lengths_of_all_comments.append(len(comment[i]))\n",
    "    \n",
    "average = sum(lengths_of_all_comments)/total_comment\n",
    "print('The Average length of Comment: {:.3f}'.format(average))"
   ]
  },
  {
   "cell_type": "code",
   "execution_count": 70,
   "metadata": {},
   "outputs": [
    {
     "name": "stdout",
     "output_type": "stream",
     "text": [
      "115232\n",
      "115232\n"
     ]
    }
   ],
   "source": [
    "# remove excess length comments\n",
    "comments = []\n",
    "labels = []\n",
    "for i in range(total_comment):\n",
    "    if(len(comment[i]) <= average):\n",
    "        comments.append(comment[i])\n",
    "        labels.append(label[i])\n",
    "        \n",
    "print(len(comments))\n",
    "print(len(labels))"
   ]
  },
  {
   "cell_type": "code",
   "execution_count": null,
   "metadata": {},
   "outputs": [],
   "source": []
  }
 ],
 "metadata": {
  "kernelspec": {
   "display_name": "Python 3",
   "language": "python",
   "name": "python3"
  },
  "language_info": {
   "codemirror_mode": {
    "name": "ipython",
    "version": 3
   },
   "file_extension": ".py",
   "mimetype": "text/x-python",
   "name": "python",
   "nbconvert_exporter": "python",
   "pygments_lexer": "ipython3",
   "version": "3.6.6"
  }
 },
 "nbformat": 4,
 "nbformat_minor": 2
}
